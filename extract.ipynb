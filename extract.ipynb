{
 "cells": [
  {
   "cell_type": "code",
   "execution_count": 1,
   "metadata": {
    "collapsed": true
   },
   "outputs": [],
   "source": [
    "import pandas as pd\n",
    "from autologging import traced, logged\n",
    "from data import TEAM_ABBREVIATIONS_TO_TEAM\n",
    "from basketball_reference_scraper.box_scores import get_box_scores\n",
    "import basketball_reference_scraper.seasons as seasons\n",
    "from webscrape_threader import parallel_scrape"
   ]
  },
  {
   "cell_type": "code",
   "execution_count": null,
   "metadata": {
    "pycharm": {
     "name": "#%%\n"
    }
   },
   "outputs": [],
   "source": [
    "@traced\n",
    "@logged\n",
    "class NBAUtility:\n",
    "    @staticmethod\n",
    "    def _label_winner(home_score: int, away_score: int):\n",
    "        if home_score > away_score:\n",
    "            return 'home'\n",
    "        else:\n",
    "            return 'away'\n",
    "\n",
    "    @staticmethod\n",
    "    def _name_to_abbreviation(series: pd.Series):\n",
    "        return series.str.upper().map(TEAM_ABBREVIATIONS_TO_TEAM)\n"
   ]
  },
  {
   "cell_type": "code",
   "execution_count": 2,
   "metadata": {
    "pycharm": {
     "name": "#%%\n"
    }
   },
   "outputs": [
    {
     "ename": "NameError",
     "evalue": "name 'traced' is not defined",
     "output_type": "error",
     "traceback": [
      "\u001B[1;31m---------------------------------------------------------------------------\u001B[0m",
      "\u001B[1;31mNameError\u001B[0m                                 Traceback (most recent call last)",
      "Input \u001B[1;32mIn [2]\u001B[0m, in \u001B[0;36m<cell line: 1>\u001B[1;34m()\u001B[0m\n\u001B[1;32m----> 1\u001B[0m \u001B[38;5;129m@traced\u001B[39m\n\u001B[0;32m      2\u001B[0m \u001B[38;5;129m@logged\u001B[39m\n\u001B[0;32m      3\u001B[0m \u001B[38;5;28;01mclass\u001B[39;00m \u001B[38;5;21;01mNBAData\u001B[39;00m(NBAUtility):\n\u001B[0;32m      4\u001B[0m     \u001B[38;5;28;01mdef\u001B[39;00m \u001B[38;5;21m__init__\u001B[39m(\u001B[38;5;28mself\u001B[39m, season, to_csv\u001B[38;5;241m=\u001B[39m\u001B[38;5;28;01mTrue\u001B[39;00m):\n\u001B[0;32m      5\u001B[0m         \u001B[38;5;28mself\u001B[39m\u001B[38;5;241m.\u001B[39mnba \u001B[38;5;241m=\u001B[39m NBA(season\u001B[38;5;241m=\u001B[39mseason)\n",
      "\u001B[1;31mNameError\u001B[0m: name 'traced' is not defined"
     ]
    }
   ],
   "source": [
    "\n",
    "@traced\n",
    "@logged\n",
    "class NBAData(NBAUtility):\n",
    "    def __init__(self, season, to_csv=True):\n",
    "        self.nba = NBA(season=season)\n",
    "        self.utility = NBAUtility\n",
    "        self.season = season\n",
    "\n",
    "    def get_and_download_data(self):\n",
    "\n",
    "        schedule = self.get_team_schedules(self.season)\n",
    "        schedule.to_csv(f\".data/raw_data/nba_schedules/{self.season}_schedule_matches.csv\")\n",
    "        box_scores = self.get_box_scores(schedule)\n",
    "        box_scores.to_csv(f\".data/raw_data/box_scores/{self.season}_box_scores.csv\")\n",
    "\n",
    "    def _convert_name_to_abbreviation(self, df):\n",
    "        self.__log.info(\"Converting names to abbreviated versions\")\n",
    "        for i in ['HOME', 'VISITOR']:\n",
    "            df.loc[:, f\"{i}_ABBR\"] = self.nba._name_to_abbreviation(df[i])\n",
    "        return df\n",
    "\n",
    "    def get_box_scores(self, schedule):\n",
    "        schedule = self._convert_name_to_abbreviation(schedule)\n",
    "        df = pd.concat(parallel_scrape(schedule[['DATE', 'HOME_ABBR', 'VISITOR_ABBR']].to_records(index=False)))\n",
    "        self.__log.info(f\"Finished getting box scores for {self.season}\")\n",
    "        return df\n",
    "\n",
    "    def get_team_schedules(self, season):\n",
    "        self.__log.info(\"Getting team schedules\")\n",
    "        df = seasons.get_schedule(season)\n",
    "        return df[(~df.VISITOR_PTS.isna()) | (~df.HOME_PTS.isna())]\n"
   ]
  },
  {
   "cell_type": "code",
   "execution_count": null,
   "metadata": {
    "pycharm": {
     "name": "#%%\n"
    }
   },
   "outputs": [],
   "source": [
    "@traced\n",
    "@logged\n",
    "def get_data():\n",
    "    years = ['2022']\n",
    "    for year in years:\n",
    "        NBAData(season=year, to_csv=True).get_and_download_data()"
   ]
  },
  {
   "cell_type": "code",
   "execution_count": null,
   "metadata": {
    "pycharm": {
     "name": "#%%\n"
    }
   },
   "outputs": [],
   "source": []
  }
 ],
 "metadata": {
  "kernelspec": {
   "display_name": "Python 3 (ipykernel)",
   "language": "python",
   "name": "python3"
  },
  "language_info": {
   "codemirror_mode": {
    "name": "ipython",
    "version": 3
   },
   "file_extension": ".py",
   "mimetype": "text/x-python",
   "name": "python",
   "nbconvert_exporter": "python",
   "pygments_lexer": "ipython3",
   "version": "3.8.13"
  }
 },
 "nbformat": 4,
 "nbformat_minor": 1
}